{
 "cells": [
  {
   "cell_type": "code",
   "execution_count": 1,
   "id": "7a06d97c-c7eb-44f3-aab7-386991cc0e9a",
   "metadata": {},
   "outputs": [],
   "source": [
    "# from IPython.display import display\n",
    "# from PIL import Image\n",
    "\n",
    "# img = Image.open(\"images/panda.png\") \n",
    "# display(img)"
   ]
  },
  {
   "cell_type": "code",
   "execution_count": 2,
   "id": "b7d0b6f3-2a3f-4554-b0aa-5456c53ea660",
   "metadata": {},
   "outputs": [],
   "source": [
    "# Turn img into numpy array\n",
    "# from matplotlib.image import imread\n",
    "\n",
    "# panda = imread(\"images/panda.png\")\n",
    "# print(type(panda))"
   ]
  },
  {
   "cell_type": "code",
   "execution_count": 3,
   "id": "19238da8-58c2-46ea-b533-898e7eee355d",
   "metadata": {},
   "outputs": [],
   "source": [
    "# panda"
   ]
  },
  {
   "cell_type": "code",
   "execution_count": null,
   "id": "221afe8e-eee5-43d6-9c5e-09c52a0521b3",
   "metadata": {},
   "outputs": [],
   "source": [
    "# panda.shape, panda.size, panda.ndim"
   ]
  }
 ],
 "metadata": {
  "kernelspec": {
   "display_name": "Python 3 (ipykernel)",
   "language": "python",
   "name": "python3"
  },
  "language_info": {
   "codemirror_mode": {
    "name": "ipython",
    "version": 3
   },
   "file_extension": ".py",
   "mimetype": "text/x-python",
   "name": "python",
   "nbconvert_exporter": "python",
   "pygments_lexer": "ipython3",
   "version": "3.13.2"
  }
 },
 "nbformat": 4,
 "nbformat_minor": 5
}
